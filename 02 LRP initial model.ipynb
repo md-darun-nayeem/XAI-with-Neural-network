{
  "nbformat": 4,
  "nbformat_minor": 0,
  "metadata": {
    "colab": {
      "provenance": []
    },
    "kernelspec": {
      "name": "python3",
      "display_name": "Python 3"
    },
    "language_info": {
      "name": "python"
    }
  },
  "cells": [
    {
      "cell_type": "code",
      "source": [
        "# Part 2\n",
        "\n",
        "import numpy as np\n",
        "from tensorflow import keras\n",
        "from tensorflow.keras import layers\n",
        "\n",
        "# Load your trained GAN model\n",
        "# Replace 'your_model_path' with the path to your saved generator model\n",
        "generator = keras.models.load_model('your_model_path')\n",
        "\n",
        "# Define a function to perform Layer-wise Relevance Propagation (LRP)\n",
        "def lrp(model, image, relevance_scaling=1.0):\n",
        "    # Create a copy of the model with custom LRP Relevance Layer\n",
        "    lrp_model = keras.models.clone_model(model)\n",
        "\n",
        "    # Replace the final activation layer with a linear activation layer\n",
        "    lrp_model.add(layers.Activation('linear'))\n",
        "\n",
        "    # Compile the LRP model\n",
        "    lrp_model.compile(optimizer='adam', loss='mse')\n",
        "\n",
        "    # Perform LRP\n",
        "    relevance_input = np.ones_like(image)\n",
        "    relevance_map = lrp_model.predict(image) * relevance_scaling\n",
        "    relevance_input = lrp_model.layers[-2].backward(relevance_map, relevance_input)\n",
        "\n",
        "    return relevance_input\n",
        "\n",
        "# Generate random noise as input to the generator\n",
        "noise = np.random.normal(0, 1, size=(1, 100))\n",
        "\n",
        "# Generate a fake image using the generator\n",
        "generated_image = generator.predict(noise)\n",
        "\n",
        "# Perform LRP on the generator\n",
        "relevance_input = lrp(generator, noise)\n",
        "\n",
        "# Visualize the generated image and the corresponding relevance scores\n",
        "plt.subplot(1, 2, 1)\n",
        "plt.imshow(generated_image[0])\n",
        "plt.title('Generated Image')\n",
        "plt.axis('off')\n",
        "\n",
        "plt.subplot(1, 2, 2)\n",
        "plt.imshow(relevance_input[0])\n",
        "plt.title('Relevance Scores')\n",
        "plt.axis('off')\n",
        "\n",
        "plt.show()\n",
        "\n",
        "\n"
      ],
      "metadata": {
        "id": "Yv0lYxLltFIS"
      },
      "execution_count": null,
      "outputs": []
    },
    {
      "cell_type": "code",
      "source": [],
      "metadata": {
        "id": "8SIT20Qds1JJ"
      },
      "execution_count": null,
      "outputs": []
    }
  ]
}